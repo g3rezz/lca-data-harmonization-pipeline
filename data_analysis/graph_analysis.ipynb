{
 "cells": [
  {
   "cell_type": "code",
   "execution_count": 7,
   "metadata": {},
   "outputs": [
    {
     "name": "stdout",
     "output_type": "stream",
     "text": [
      "Loaded 2,833 triples\n"
     ]
    },
    {
     "data": {
      "application/vnd.microsoft.datawrangler.viewer.v0+json": {
       "columns": [
        {
         "name": "index",
         "rawType": "int64",
         "type": "integer"
        },
        {
         "name": "Metric",
         "rawType": "object",
         "type": "string"
        },
        {
         "name": "Value",
         "rawType": "object",
         "type": "unknown"
        }
       ],
       "conversionMethod": "pd.DataFrame",
       "ref": "9d660f84-c3ff-4cdb-98a1-4738258037ce",
       "rows": [
        [
         "0",
         "Triples",
         "2833"
        ],
        [
         "1",
         "Classes (ilcd, capitalised)",
         "40"
        ],
        [
         "2",
         "Distinct subjects",
         "706"
        ],
        [
         "3",
         "Distinct predicates",
         "115"
        ],
        [
         "4",
         "Literals (objects)",
         "425"
        ],
        [
         "5",
         "IRIs – objects",
         "745"
        ],
        [
         "6",
         "Blank nodes – total",
         "0"
        ],
        [
         "7",
         "Average node degree",
         "4.833"
        ],
        [
         "8",
         "Graph connected?",
         "True"
        ],
        [
         "9",
         "Connected components",
         "1"
        ],
        [
         "10",
         "Diameter (largest comp)",
         "9"
        ]
       ],
       "shape": {
        "columns": 2,
        "rows": 11
       }
      },
      "text/html": [
       "<div>\n",
       "<style scoped>\n",
       "    .dataframe tbody tr th:only-of-type {\n",
       "        vertical-align: middle;\n",
       "    }\n",
       "\n",
       "    .dataframe tbody tr th {\n",
       "        vertical-align: top;\n",
       "    }\n",
       "\n",
       "    .dataframe thead th {\n",
       "        text-align: right;\n",
       "    }\n",
       "</style>\n",
       "<table border=\"1\" class=\"dataframe\">\n",
       "  <thead>\n",
       "    <tr style=\"text-align: right;\">\n",
       "      <th></th>\n",
       "      <th>Metric</th>\n",
       "      <th>Value</th>\n",
       "    </tr>\n",
       "  </thead>\n",
       "  <tbody>\n",
       "    <tr>\n",
       "      <th>0</th>\n",
       "      <td>Triples</td>\n",
       "      <td>2833</td>\n",
       "    </tr>\n",
       "    <tr>\n",
       "      <th>1</th>\n",
       "      <td>Classes (ilcd, capitalised)</td>\n",
       "      <td>40</td>\n",
       "    </tr>\n",
       "    <tr>\n",
       "      <th>2</th>\n",
       "      <td>Distinct subjects</td>\n",
       "      <td>706</td>\n",
       "    </tr>\n",
       "    <tr>\n",
       "      <th>3</th>\n",
       "      <td>Distinct predicates</td>\n",
       "      <td>115</td>\n",
       "    </tr>\n",
       "    <tr>\n",
       "      <th>4</th>\n",
       "      <td>Literals (objects)</td>\n",
       "      <td>425</td>\n",
       "    </tr>\n",
       "    <tr>\n",
       "      <th>5</th>\n",
       "      <td>IRIs – objects</td>\n",
       "      <td>745</td>\n",
       "    </tr>\n",
       "    <tr>\n",
       "      <th>6</th>\n",
       "      <td>Blank nodes – total</td>\n",
       "      <td>0</td>\n",
       "    </tr>\n",
       "    <tr>\n",
       "      <th>7</th>\n",
       "      <td>Average node degree</td>\n",
       "      <td>4.833</td>\n",
       "    </tr>\n",
       "    <tr>\n",
       "      <th>8</th>\n",
       "      <td>Graph connected?</td>\n",
       "      <td>True</td>\n",
       "    </tr>\n",
       "    <tr>\n",
       "      <th>9</th>\n",
       "      <td>Connected components</td>\n",
       "      <td>1</td>\n",
       "    </tr>\n",
       "    <tr>\n",
       "      <th>10</th>\n",
       "      <td>Diameter (largest comp)</td>\n",
       "      <td>9</td>\n",
       "    </tr>\n",
       "  </tbody>\n",
       "</table>\n",
       "</div>"
      ],
      "text/plain": [
       "                         Metric  Value\n",
       "0                       Triples   2833\n",
       "1   Classes (ilcd, capitalised)     40\n",
       "2             Distinct subjects    706\n",
       "3           Distinct predicates    115\n",
       "4            Literals (objects)    425\n",
       "5                IRIs – objects    745\n",
       "6           Blank nodes – total      0\n",
       "7           Average node degree  4.833\n",
       "8              Graph connected?   True\n",
       "9          Connected components      1\n",
       "10      Diameter (largest comp)      9"
      ]
     },
     "metadata": {},
     "output_type": "display_data"
    },
    {
     "data": {
      "application/vnd.microsoft.datawrangler.viewer.v0+json": {
       "columns": [
        {
         "name": "index",
         "rawType": "int64",
         "type": "integer"
        },
        {
         "name": "Module",
         "rawType": "object",
         "type": "string"
        },
        {
         "name": "Triples",
         "rawType": "int64",
         "type": "integer"
        }
       ],
       "conversionMethod": "pd.DataFrame",
       "ref": "8050d189-ae9f-4c39-94af-273142631f35",
       "rows": [
        [
         "1",
         "//example.org/ilcd/lciaResults",
         "20"
        ],
        [
         "3",
         "//example.org/ilcd/exchanges",
         "20"
        ],
        [
         "4",
         "//example.org/ilcd/processInformation",
         "6"
        ],
        [
         "2",
         "//example.org/ilcd/modellingAndValidation",
         "5"
        ],
        [
         "0",
         "//example.org/ilcd/administrativeInformation",
         "4"
        ]
       ],
       "shape": {
        "columns": 2,
        "rows": 5
       }
      },
      "text/html": [
       "<div>\n",
       "<style scoped>\n",
       "    .dataframe tbody tr th:only-of-type {\n",
       "        vertical-align: middle;\n",
       "    }\n",
       "\n",
       "    .dataframe tbody tr th {\n",
       "        vertical-align: top;\n",
       "    }\n",
       "\n",
       "    .dataframe thead th {\n",
       "        text-align: right;\n",
       "    }\n",
       "</style>\n",
       "<table border=\"1\" class=\"dataframe\">\n",
       "  <thead>\n",
       "    <tr style=\"text-align: right;\">\n",
       "      <th></th>\n",
       "      <th>Module</th>\n",
       "      <th>Triples</th>\n",
       "    </tr>\n",
       "  </thead>\n",
       "  <tbody>\n",
       "    <tr>\n",
       "      <th>1</th>\n",
       "      <td>//example.org/ilcd/lciaResults</td>\n",
       "      <td>20</td>\n",
       "    </tr>\n",
       "    <tr>\n",
       "      <th>3</th>\n",
       "      <td>//example.org/ilcd/exchanges</td>\n",
       "      <td>20</td>\n",
       "    </tr>\n",
       "    <tr>\n",
       "      <th>4</th>\n",
       "      <td>//example.org/ilcd/processInformation</td>\n",
       "      <td>6</td>\n",
       "    </tr>\n",
       "    <tr>\n",
       "      <th>2</th>\n",
       "      <td>//example.org/ilcd/modellingAndValidation</td>\n",
       "      <td>5</td>\n",
       "    </tr>\n",
       "    <tr>\n",
       "      <th>0</th>\n",
       "      <td>//example.org/ilcd/administrativeInformation</td>\n",
       "      <td>4</td>\n",
       "    </tr>\n",
       "  </tbody>\n",
       "</table>\n",
       "</div>"
      ],
      "text/plain": [
       "                                         Module  Triples\n",
       "1                //example.org/ilcd/lciaResults       20\n",
       "3                  //example.org/ilcd/exchanges       20\n",
       "4         //example.org/ilcd/processInformation        6\n",
       "2     //example.org/ilcd/modellingAndValidation        5\n",
       "0  //example.org/ilcd/administrativeInformation        4"
      ]
     },
     "metadata": {},
     "output_type": "display_data"
    }
   ],
   "source": [
    "# Add rdflib / networkx / pandas\n",
    "import rdflib\n",
    "import networkx as nx\n",
    "import pandas as pd\n",
    "\n",
    "# Load the Turtle graph\n",
    "file_path = \"data/rdf/test.ttl\"          # adjust if necessary\n",
    "g = rdflib.Graph().parse(file_path, format=\"turtle\")\n",
    "print(f\"Loaded {len(g):,} triples\")\n",
    "\n",
    "# Gather node and predicate sets\n",
    "subjects   = {s for s, _, _ in g}\n",
    "predicates = {p for _, p, _ in g}\n",
    "objects    = {o for _, _, o in g}\n",
    "all_nodes  = subjects | objects\n",
    "\n",
    "# Detect literals, IRIs, and blank nodes\n",
    "literals   = {o for o in objects if isinstance(o, rdflib.term.Literal)}\n",
    "iri_objs   = {o for o in objects if isinstance(o, rdflib.term.URIRef)}\n",
    "bnode_all  = {n for n in all_nodes if isinstance(n, rdflib.term.BNode)}\n",
    "\n",
    "# Identify classes: every ilcd: resource whose local part starts with a capital letter\n",
    "classes = {\n",
    "    n\n",
    "    for n in all_nodes\n",
    "    if isinstance(n, rdflib.term.URIRef)\n",
    "       and g.namespace_manager.qname(n).startswith(\"ilcd:\")\n",
    "       and g.namespace_manager.qname(n).split(\":\", 1)[1][:1].isupper()\n",
    "}\n",
    "\n",
    "# Build undirected graph for structural metrics\n",
    "UG = nx.Graph()\n",
    "UG.add_edges_from((s, o) for s, _, o in g)\n",
    "avg_degree = sum(dict(UG.degree()).values()) / UG.number_of_nodes()\n",
    "is_connected   = nx.is_connected(UG)\n",
    "num_components = nx.number_connected_components(UG)\n",
    "largest_comp   = UG.subgraph(max(nx.connected_components(UG), key=len))\n",
    "diameter       = nx.diameter(largest_comp)\n",
    "\n",
    "# Locate module root nodes and count their triples\n",
    "module_predicates = {\n",
    "    \"administrativeInformation\",\n",
    "    \"exchanges\",\n",
    "    \"lciaResults\",\n",
    "    \"modellingAndValidation\",\n",
    "    \"processInformation\",\n",
    "}\n",
    "\n",
    "module_roots = {\n",
    "    pred.split(\":\")[1]: obj\n",
    "    for _, pred, obj in g\n",
    "    if isinstance(pred, rdflib.term.URIRef)\n",
    "       and g.namespace_manager.qname(pred).startswith(\"ilcd:\")\n",
    "       and g.namespace_manager.qname(pred).split(\":\", 1)[1] in module_predicates\n",
    "}\n",
    "\n",
    "module_counts = {\n",
    "    name: len(list(g.triples((root, None, None))))\n",
    "    for name, root in module_roots.items()\n",
    "}\n",
    "\n",
    "# Create summary of key metrics\n",
    "summary = pd.DataFrame(\n",
    "    {\n",
    "        \"Metric\": [\n",
    "            \"Triples\",\n",
    "            \"Classes (ilcd, capitalised)\",\n",
    "            \"Distinct subjects\",\n",
    "            \"Distinct predicates\",\n",
    "            \"Literals (objects)\",\n",
    "            \"IRIs – objects\",\n",
    "            \"Blank nodes – total\",\n",
    "            \"Average node degree\",\n",
    "            \"Graph connected?\",\n",
    "            \"Connected components\",\n",
    "            \"Diameter (largest comp)\",\n",
    "        ],\n",
    "        \"Value\": [\n",
    "            len(g),\n",
    "            len(classes),\n",
    "            len(subjects),\n",
    "            len(predicates),\n",
    "            len(literals),\n",
    "            len(iri_objs),\n",
    "            len(bnode_all),\n",
    "            round(avg_degree, 3),\n",
    "            is_connected,\n",
    "            num_components,\n",
    "            diameter,\n",
    "        ],\n",
    "    }\n",
    ")\n",
    "\n",
    "# Display essential metrics\n",
    "display(summary)\n",
    "\n",
    "# Display per‑module triple counts\n",
    "module_df = pd.DataFrame(\n",
    "    {\"Module\": list(module_counts.keys()), \"Triples\": list(module_counts.values())}\n",
    ").sort_values(\"Triples\", ascending=False)\n",
    "display(module_df)\n"
   ]
  }
 ],
 "metadata": {
  "kernelspec": {
   "display_name": "linkml-env",
   "language": "python",
   "name": "python3"
  },
  "language_info": {
   "codemirror_mode": {
    "name": "ipython",
    "version": 3
   },
   "file_extension": ".py",
   "mimetype": "text/x-python",
   "name": "python",
   "nbconvert_exporter": "python",
   "pygments_lexer": "ipython3",
   "version": "3.12.8"
  }
 },
 "nbformat": 4,
 "nbformat_minor": 2
}
